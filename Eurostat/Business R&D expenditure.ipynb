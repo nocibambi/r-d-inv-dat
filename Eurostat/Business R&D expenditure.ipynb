{
 "cells": [
  {
   "cell_type": "markdown",
   "metadata": {},
   "source": [
    "# Importing the libraries"
   ]
  },
  {
   "cell_type": "code",
   "execution_count": 561,
   "metadata": {
    "collapsed": true
   },
   "outputs": [],
   "source": [
    "from pandasdmx import Request"
   ]
  },
  {
   "cell_type": "code",
   "execution_count": 562,
   "metadata": {
    "collapsed": true
   },
   "outputs": [],
   "source": [
    "import pandas as pd"
   ]
  },
  {
   "cell_type": "code",
   "execution_count": 563,
   "metadata": {
    "collapsed": true
   },
   "outputs": [],
   "source": [
    "from bokeh.io import output_notebook, show\n",
    "from bokeh.plotting import figure"
   ]
  },
  {
   "cell_type": "code",
   "execution_count": 564,
   "metadata": {
    "scrolled": true
   },
   "outputs": [
    {
     "data": {
      "text/html": [
       "\n",
       "    <div class=\"bk-root\">\n",
       "        <a href=\"http://bokeh.pydata.org\" target=\"_blank\" class=\"bk-logo bk-logo-small bk-logo-notebook\"></a>\n",
       "        <span id=\"618820ed-c7e3-4f17-b485-af0ba8544f8c\">Loading BokehJS ...</span>\n",
       "    </div>"
      ]
     },
     "metadata": {},
     "output_type": "display_data"
    },
    {
     "data": {
      "application/javascript": [
       "\n",
       "(function(global) {\n",
       "  function now() {\n",
       "    return new Date();\n",
       "  }\n",
       "\n",
       "  var force = true;\n",
       "\n",
       "  if (typeof (window._bokeh_onload_callbacks) === \"undefined\" || force === true) {\n",
       "    window._bokeh_onload_callbacks = [];\n",
       "    window._bokeh_is_loading = undefined;\n",
       "  }\n",
       "\n",
       "\n",
       "  \n",
       "  if (typeof (window._bokeh_timeout) === \"undefined\" || force === true) {\n",
       "    window._bokeh_timeout = Date.now() + 5000;\n",
       "    window._bokeh_failed_load = false;\n",
       "  }\n",
       "\n",
       "  var NB_LOAD_WARNING = {'data': {'text/html':\n",
       "     \"<div style='background-color: #fdd'>\\n\"+\n",
       "     \"<p>\\n\"+\n",
       "     \"BokehJS does not appear to have successfully loaded. If loading BokehJS from CDN, this \\n\"+\n",
       "     \"may be due to a slow or bad network connection. Possible fixes:\\n\"+\n",
       "     \"</p>\\n\"+\n",
       "     \"<ul>\\n\"+\n",
       "     \"<li>re-rerun `output_notebook()` to attempt to load from CDN again, or</li>\\n\"+\n",
       "     \"<li>use INLINE resources instead, as so:</li>\\n\"+\n",
       "     \"</ul>\\n\"+\n",
       "     \"<code>\\n\"+\n",
       "     \"from bokeh.resources import INLINE\\n\"+\n",
       "     \"output_notebook(resources=INLINE)\\n\"+\n",
       "     \"</code>\\n\"+\n",
       "     \"</div>\"}};\n",
       "\n",
       "  function display_loaded() {\n",
       "    if (window.Bokeh !== undefined) {\n",
       "      var el = document.getElementById(\"618820ed-c7e3-4f17-b485-af0ba8544f8c\");\n",
       "      el.textContent = \"BokehJS \" + Bokeh.version + \" successfully loaded.\";\n",
       "    } else if (Date.now() < window._bokeh_timeout) {\n",
       "      setTimeout(display_loaded, 100)\n",
       "    }\n",
       "  }\n",
       "\n",
       "  function run_callbacks() {\n",
       "    window._bokeh_onload_callbacks.forEach(function(callback) { callback() });\n",
       "    delete window._bokeh_onload_callbacks\n",
       "    console.info(\"Bokeh: all callbacks have finished\");\n",
       "  }\n",
       "\n",
       "  function load_libs(js_urls, callback) {\n",
       "    window._bokeh_onload_callbacks.push(callback);\n",
       "    if (window._bokeh_is_loading > 0) {\n",
       "      console.log(\"Bokeh: BokehJS is being loaded, scheduling callback at\", now());\n",
       "      return null;\n",
       "    }\n",
       "    if (js_urls == null || js_urls.length === 0) {\n",
       "      run_callbacks();\n",
       "      return null;\n",
       "    }\n",
       "    console.log(\"Bokeh: BokehJS not loaded, scheduling load and callback at\", now());\n",
       "    window._bokeh_is_loading = js_urls.length;\n",
       "    for (var i = 0; i < js_urls.length; i++) {\n",
       "      var url = js_urls[i];\n",
       "      var s = document.createElement('script');\n",
       "      s.src = url;\n",
       "      s.async = false;\n",
       "      s.onreadystatechange = s.onload = function() {\n",
       "        window._bokeh_is_loading--;\n",
       "        if (window._bokeh_is_loading === 0) {\n",
       "          console.log(\"Bokeh: all BokehJS libraries loaded\");\n",
       "          run_callbacks()\n",
       "        }\n",
       "      };\n",
       "      s.onerror = function() {\n",
       "        console.warn(\"failed to load library \" + url);\n",
       "      };\n",
       "      console.log(\"Bokeh: injecting script tag for BokehJS library: \", url);\n",
       "      document.getElementsByTagName(\"head\")[0].appendChild(s);\n",
       "    }\n",
       "  };var element = document.getElementById(\"618820ed-c7e3-4f17-b485-af0ba8544f8c\");\n",
       "  if (element == null) {\n",
       "    console.log(\"Bokeh: ERROR: autoload.js configured with elementid '618820ed-c7e3-4f17-b485-af0ba8544f8c' but no matching script tag was found. \")\n",
       "    return false;\n",
       "  }\n",
       "\n",
       "  var js_urls = [\"https://cdn.pydata.org/bokeh/release/bokeh-0.12.5.min.js\", \"https://cdn.pydata.org/bokeh/release/bokeh-widgets-0.12.5.min.js\"];\n",
       "\n",
       "  var inline_js = [\n",
       "    function(Bokeh) {\n",
       "      Bokeh.set_log_level(\"info\");\n",
       "    },\n",
       "    \n",
       "    function(Bokeh) {\n",
       "      \n",
       "    },\n",
       "    \n",
       "    function(Bokeh) {\n",
       "      \n",
       "      document.getElementById(\"618820ed-c7e3-4f17-b485-af0ba8544f8c\").textContent = \"BokehJS is loading...\";\n",
       "    },\n",
       "    function(Bokeh) {\n",
       "      console.log(\"Bokeh: injecting CSS: https://cdn.pydata.org/bokeh/release/bokeh-0.12.5.min.css\");\n",
       "      Bokeh.embed.inject_css(\"https://cdn.pydata.org/bokeh/release/bokeh-0.12.5.min.css\");\n",
       "      console.log(\"Bokeh: injecting CSS: https://cdn.pydata.org/bokeh/release/bokeh-widgets-0.12.5.min.css\");\n",
       "      Bokeh.embed.inject_css(\"https://cdn.pydata.org/bokeh/release/bokeh-widgets-0.12.5.min.css\");\n",
       "    }\n",
       "  ];\n",
       "\n",
       "  function run_inline_js() {\n",
       "    \n",
       "    if ((window.Bokeh !== undefined) || (force === true)) {\n",
       "      for (var i = 0; i < inline_js.length; i++) {\n",
       "        inline_js[i](window.Bokeh);\n",
       "      }if (force === true) {\n",
       "        display_loaded();\n",
       "      }} else if (Date.now() < window._bokeh_timeout) {\n",
       "      setTimeout(run_inline_js, 100);\n",
       "    } else if (!window._bokeh_failed_load) {\n",
       "      console.log(\"Bokeh: BokehJS failed to load within specified timeout.\");\n",
       "      window._bokeh_failed_load = true;\n",
       "    } else if (force !== true) {\n",
       "      var cell = $(document.getElementById(\"618820ed-c7e3-4f17-b485-af0ba8544f8c\")).parents('.cell').data().cell;\n",
       "      cell.output_area.append_execute_result(NB_LOAD_WARNING)\n",
       "    }\n",
       "\n",
       "  }\n",
       "\n",
       "  if (window._bokeh_is_loading === 0) {\n",
       "    console.log(\"Bokeh: BokehJS loaded, going straight to plotting\");\n",
       "    run_inline_js();\n",
       "  } else {\n",
       "    load_libs(js_urls, function() {\n",
       "      console.log(\"Bokeh: BokehJS plotting callback run at\", now());\n",
       "      run_inline_js();\n",
       "    });\n",
       "  }\n",
       "}(this));"
      ]
     },
     "metadata": {},
     "output_type": "display_data"
    }
   ],
   "source": [
    "output_notebook()"
   ]
  },
  {
   "cell_type": "markdown",
   "metadata": {},
   "source": [
    "# Connecting to the webservice"
   ]
  },
  {
   "cell_type": "code",
   "execution_count": 565,
   "metadata": {
    "collapsed": true
   },
   "outputs": [],
   "source": [
    "estat = Request('ESTAT')"
   ]
  },
  {
   "cell_type": "markdown",
   "metadata": {},
   "source": [
    "### Downloading dataflow definitions"
   ]
  },
  {
   "cell_type": "code",
   "execution_count": 566,
   "metadata": {
    "collapsed": true
   },
   "outputs": [],
   "source": [
    "dflow = estat.dataflow()"
   ]
  },
  {
   "cell_type": "markdown",
   "metadata": {},
   "source": [
    "## Defining functions"
   ]
  },
  {
   "cell_type": "markdown",
   "metadata": {},
   "source": [
    "### Data structure"
   ]
  },
  {
   "cell_type": "code",
   "execution_count": 567,
   "metadata": {
    "collapsed": true
   },
   "outputs": [],
   "source": [
    "def dsd_resp(id):\n",
    "    \"\"\"\n",
    "    The function takes a dataflow identifier and requests from the Eurostat SDMX api the dataflow's datastructure, datastructure id and datastructure response.\n",
    "    \"\"\"    \n",
    "    # Defining the data set's dataflow based on the data set id.\n",
    "    df = dflow.dataflow[id]\n",
    "    \n",
    "    # Printing the table's name\n",
    "    print(\"The table's name:\")\n",
    "    print(dflow.write().dataflow.loc[id][0])\n",
    "    \n",
    "    # Acquiring the dataflow's datastructure id\n",
    "    dsd_id = df.structure.id\n",
    "    \n",
    "    # Requesting for the dataflow's datastructure\n",
    "    dsd_resp = estat.get(resource_type = 'datastructure', resource_id = dsd_id)\n",
    "    \n",
    "    # Requesting the dataflow's datastructure\n",
    "    dsd = dsd_resp.datastructure[dsd_id]\n",
    "    \n",
    "    return dsd_resp, dsd_id, dsd"
   ]
  },
  {
   "cell_type": "markdown",
   "metadata": {},
   "source": [
    "### Datastructure attributes"
   ]
  },
  {
   "cell_type": "code",
   "execution_count": 568,
   "metadata": {
    "collapsed": true
   },
   "outputs": [],
   "source": [
    "def dsd_att(dsd):\n",
    "    \"\"\"The function takes a table datastructure definition and prints its measure, dimension and attribute lists.\"\"\"\n",
    "    # Measures\n",
    "    print(\"Measures:\")\n",
    "    print(dsd.measures.aslist())\n",
    "    \n",
    "    # Dimensions\n",
    "    print(\"\\nDimensions:\")\n",
    "    print(dsd.dimensions.aslist())\n",
    "    \n",
    "    # Attributes\n",
    "    print(\"\\nAttributes:\")\n",
    "    print(dsd.attributes.aslist())"
   ]
  },
  {
   "cell_type": "markdown",
   "metadata": {},
   "source": [
    "## Selecting the tables"
   ]
  },
  {
   "cell_type": "markdown",
   "metadata": {},
   "source": [
    "### Listing the tables from the 'High-tech industry and knowledge-intensive services (**htec**)' database"
   ]
  },
  {
   "cell_type": "code",
   "execution_count": 569,
   "metadata": {},
   "outputs": [
    {
     "data": {
      "text/html": [
       "<div>\n",
       "<style>\n",
       "    .dataframe thead tr:only-child th {\n",
       "        text-align: right;\n",
       "    }\n",
       "\n",
       "    .dataframe thead th {\n",
       "        text-align: left;\n",
       "    }\n",
       "\n",
       "    .dataframe tbody tr th {\n",
       "        vertical-align: top;\n",
       "    }\n",
       "</style>\n",
       "<table border=\"1\" class=\"dataframe\">\n",
       "  <thead>\n",
       "    <tr style=\"text-align: right;\">\n",
       "      <th></th>\n",
       "      <th>name</th>\n",
       "    </tr>\n",
       "    <tr>\n",
       "      <th>dataflow</th>\n",
       "      <th></th>\n",
       "    </tr>\n",
       "  </thead>\n",
       "  <tbody>\n",
       "    <tr>\n",
       "      <th>htec_cis3</th>\n",
       "      <td>Innovation in high-tech sectors in SMEs (CIS3)...</td>\n",
       "    </tr>\n",
       "    <tr>\n",
       "      <th>htec_cis4</th>\n",
       "      <td>Innovation in high-tech sectors (CIS 2004), EU...</td>\n",
       "    </tr>\n",
       "    <tr>\n",
       "      <th>htec_cis5</th>\n",
       "      <td>Innovation in high-tech sectors (CIS 2006), EU...</td>\n",
       "    </tr>\n",
       "    <tr>\n",
       "      <th>htec_cis6</th>\n",
       "      <td>Innovation in high-tech sectors (CIS 2008, CIS...</td>\n",
       "    </tr>\n",
       "    <tr>\n",
       "      <th>htec_eco_ent</th>\n",
       "      <td>Enterprises in high-tech sectors by NACE Rev.1...</td>\n",
       "    </tr>\n",
       "    <tr>\n",
       "      <th>htec_eco_ent2</th>\n",
       "      <td>Enterprises in high-tech sectors by NACE Rev.2...</td>\n",
       "    </tr>\n",
       "    <tr>\n",
       "      <th>htec_eco_sbs</th>\n",
       "      <td>Economic data in high-tech sectors by NACE Rev...</td>\n",
       "    </tr>\n",
       "    <tr>\n",
       "      <th>htec_eco_sbs2</th>\n",
       "      <td>Economic data in high-tech sectors by NACE Rev...</td>\n",
       "    </tr>\n",
       "    <tr>\n",
       "      <th>htec_emp_nat</th>\n",
       "      <td>Employment in technology and knowledge-intensi...</td>\n",
       "    </tr>\n",
       "    <tr>\n",
       "      <th>htec_emp_nat2</th>\n",
       "      <td>Employment in technology and knowledge-intensi...</td>\n",
       "    </tr>\n",
       "    <tr>\n",
       "      <th>htec_emp_nisced</th>\n",
       "      <td>Employment in technology and knowledge-intensi...</td>\n",
       "    </tr>\n",
       "    <tr>\n",
       "      <th>htec_emp_nisced2</th>\n",
       "      <td>Employment in technology and knowledge-intensi...</td>\n",
       "    </tr>\n",
       "    <tr>\n",
       "      <th>htec_emp_nisco</th>\n",
       "      <td>Employment in technology and knowledge-intensi...</td>\n",
       "    </tr>\n",
       "    <tr>\n",
       "      <th>htec_emp_nisco2</th>\n",
       "      <td>Employment in technology and knowledge-intensi...</td>\n",
       "    </tr>\n",
       "    <tr>\n",
       "      <th>htec_emp_reg</th>\n",
       "      <td>Employment in technology and knowledge-intensi...</td>\n",
       "    </tr>\n",
       "    <tr>\n",
       "      <th>htec_emp_reg2</th>\n",
       "      <td>Employment in technology and knowledge-intensi...</td>\n",
       "    </tr>\n",
       "    <tr>\n",
       "      <th>htec_emp_risced</th>\n",
       "      <td>Employment in technology and knowledge-intensi...</td>\n",
       "    </tr>\n",
       "    <tr>\n",
       "      <th>htec_emp_risced2</th>\n",
       "      <td>Employment in technology and knowledge-intensi...</td>\n",
       "    </tr>\n",
       "    <tr>\n",
       "      <th>htec_emp_risco</th>\n",
       "      <td>Employment in technology and knowledge-intensi...</td>\n",
       "    </tr>\n",
       "    <tr>\n",
       "      <th>htec_emp_risco2</th>\n",
       "      <td>Employment in technology and knowledge-intensi...</td>\n",
       "    </tr>\n",
       "    <tr>\n",
       "      <th>htec_emp_sbs</th>\n",
       "      <td>Employment statistics on high-tech industries ...</td>\n",
       "    </tr>\n",
       "    <tr>\n",
       "      <th>htec_emp_sbs2</th>\n",
       "      <td>Employment statistics on high-tech industries ...</td>\n",
       "    </tr>\n",
       "    <tr>\n",
       "      <th>htec_kia_emp</th>\n",
       "      <td>Annual data on employment in knowledge-intensi...</td>\n",
       "    </tr>\n",
       "    <tr>\n",
       "      <th>htec_kia_emp2</th>\n",
       "      <td>Annual data on employment in knowledge-intensi...</td>\n",
       "    </tr>\n",
       "    <tr>\n",
       "      <th>htec_si_exp4</th>\n",
       "      <td>High-tech exports - Exports of high technology...</td>\n",
       "    </tr>\n",
       "    <tr>\n",
       "      <th>htec_sti_exp</th>\n",
       "      <td>Business enterprise R&amp;D expenditure in high-te...</td>\n",
       "    </tr>\n",
       "    <tr>\n",
       "      <th>htec_sti_exp2</th>\n",
       "      <td>Business enterprise R&amp;D expenditure in high-te...</td>\n",
       "    </tr>\n",
       "    <tr>\n",
       "      <th>htec_sti_pers</th>\n",
       "      <td>Business enterprise R&amp;D personnel in high-tech...</td>\n",
       "    </tr>\n",
       "    <tr>\n",
       "      <th>htec_sti_pers2</th>\n",
       "      <td>Business enterprise R&amp;D personnel in high-tech...</td>\n",
       "    </tr>\n",
       "    <tr>\n",
       "      <th>htec_trd_group4</th>\n",
       "      <td>High-tech trade by high-tech group of products...</td>\n",
       "    </tr>\n",
       "    <tr>\n",
       "      <th>htec_trd_tot4</th>\n",
       "      <td>Total high-tech trade in million euro and as a...</td>\n",
       "    </tr>\n",
       "    <tr>\n",
       "      <th>htec_vci_stage1</th>\n",
       "      <td>Venture capital investment by aggregated stage...</td>\n",
       "    </tr>\n",
       "    <tr>\n",
       "      <th>htec_vci_stage2</th>\n",
       "      <td>Venture capital investment by detailed stage o...</td>\n",
       "    </tr>\n",
       "  </tbody>\n",
       "</table>\n",
       "</div>"
      ],
      "text/plain": [
       "                                                               name\n",
       "dataflow                                                           \n",
       "htec_cis3         Innovation in high-tech sectors in SMEs (CIS3)...\n",
       "htec_cis4         Innovation in high-tech sectors (CIS 2004), EU...\n",
       "htec_cis5         Innovation in high-tech sectors (CIS 2006), EU...\n",
       "htec_cis6         Innovation in high-tech sectors (CIS 2008, CIS...\n",
       "htec_eco_ent      Enterprises in high-tech sectors by NACE Rev.1...\n",
       "htec_eco_ent2     Enterprises in high-tech sectors by NACE Rev.2...\n",
       "htec_eco_sbs      Economic data in high-tech sectors by NACE Rev...\n",
       "htec_eco_sbs2     Economic data in high-tech sectors by NACE Rev...\n",
       "htec_emp_nat      Employment in technology and knowledge-intensi...\n",
       "htec_emp_nat2     Employment in technology and knowledge-intensi...\n",
       "htec_emp_nisced   Employment in technology and knowledge-intensi...\n",
       "htec_emp_nisced2  Employment in technology and knowledge-intensi...\n",
       "htec_emp_nisco    Employment in technology and knowledge-intensi...\n",
       "htec_emp_nisco2   Employment in technology and knowledge-intensi...\n",
       "htec_emp_reg      Employment in technology and knowledge-intensi...\n",
       "htec_emp_reg2     Employment in technology and knowledge-intensi...\n",
       "htec_emp_risced   Employment in technology and knowledge-intensi...\n",
       "htec_emp_risced2  Employment in technology and knowledge-intensi...\n",
       "htec_emp_risco    Employment in technology and knowledge-intensi...\n",
       "htec_emp_risco2   Employment in technology and knowledge-intensi...\n",
       "htec_emp_sbs      Employment statistics on high-tech industries ...\n",
       "htec_emp_sbs2     Employment statistics on high-tech industries ...\n",
       "htec_kia_emp      Annual data on employment in knowledge-intensi...\n",
       "htec_kia_emp2     Annual data on employment in knowledge-intensi...\n",
       "htec_si_exp4      High-tech exports - Exports of high technology...\n",
       "htec_sti_exp      Business enterprise R&D expenditure in high-te...\n",
       "htec_sti_exp2     Business enterprise R&D expenditure in high-te...\n",
       "htec_sti_pers     Business enterprise R&D personnel in high-tech...\n",
       "htec_sti_pers2    Business enterprise R&D personnel in high-tech...\n",
       "htec_trd_group4   High-tech trade by high-tech group of products...\n",
       "htec_trd_tot4     Total high-tech trade in million euro and as a...\n",
       "htec_vci_stage1   Venture capital investment by aggregated stage...\n",
       "htec_vci_stage2   Venture capital investment by detailed stage o..."
      ]
     },
     "execution_count": 569,
     "metadata": {},
     "output_type": "execute_result"
    }
   ],
   "source": [
    "dflow.write().dataflow[dflow.write().dataflow.index.str.startswith('htec') == True]"
   ]
  },
  {
   "cell_type": "markdown",
   "metadata": {},
   "source": [
    "### The tables I am going to analyze"
   ]
  },
  {
   "cell_type": "code",
   "execution_count": 570,
   "metadata": {
    "collapsed": true
   },
   "outputs": [],
   "source": [
    "id1 = 'htec_sti_exp2'"
   ]
  },
  {
   "cell_type": "code",
   "execution_count": 571,
   "metadata": {},
   "outputs": [
    {
     "data": {
      "text/plain": [
       "'Business enterprise R&D expenditure in high-tech sectors - NACE Rev. 2'"
      ]
     },
     "execution_count": 571,
     "metadata": {},
     "output_type": "execute_result"
    }
   ],
   "source": [
    "dflow.write().dataflow.loc[id1][0]"
   ]
  },
  {
   "cell_type": "code",
   "execution_count": 572,
   "metadata": {
    "collapsed": true
   },
   "outputs": [],
   "source": [
    "id2 = 'htec_vci_stage2'"
   ]
  },
  {
   "cell_type": "code",
   "execution_count": 573,
   "metadata": {
    "scrolled": true
   },
   "outputs": [
    {
     "data": {
      "text/plain": [
       "'Venture capital investment by detailed stage of development (from 2007, source: EVCA)'"
      ]
     },
     "execution_count": 573,
     "metadata": {},
     "output_type": "execute_result"
    }
   ],
   "source": [
    "dflow.write().dataflow.loc[id2][0]"
   ]
  },
  {
   "cell_type": "markdown",
   "metadata": {},
   "source": [
    "# Business R&D expenditure"
   ]
  },
  {
   "cell_type": "markdown",
   "metadata": {},
   "source": [
    "### Getting the table's dataflow definition and datastructure"
   ]
  },
  {
   "cell_type": "code",
   "execution_count": 574,
   "metadata": {
    "scrolled": false
   },
   "outputs": [
    {
     "name": "stdout",
     "output_type": "stream",
     "text": [
      "The table's name:\n",
      "Business enterprise R&D expenditure in high-tech sectors - NACE Rev. 2\n"
     ]
    }
   ],
   "source": [
    "dsd_resp1, dsd_id1, dsd1 = dsd_resp(id1)"
   ]
  },
  {
   "cell_type": "markdown",
   "metadata": {},
   "source": [
    "### Datastructure measures, dimensions, attributes and codelist"
   ]
  },
  {
   "cell_type": "code",
   "execution_count": 575,
   "metadata": {
    "scrolled": true
   },
   "outputs": [
    {
     "name": "stdout",
     "output_type": "stream",
     "text": [
      "Measures:\n",
      "[PrimaryMeasure | OBS_VALUE]\n",
      "\n",
      "Dimensions:\n",
      "[Dimension | FREQ, Dimension | UNIT, Dimension | NACE_R2, Dimension | GEO, TimeDimension | TIME_PERIOD]\n",
      "\n",
      "Attributes:\n",
      "[DataAttribute | OBS_FLAG, DataAttribute | OBS_STATUS]\n"
     ]
    }
   ],
   "source": [
    "dsd_att(dsd1)"
   ]
  },
  {
   "cell_type": "markdown",
   "metadata": {},
   "source": [
    "Codelist:"
   ]
  },
  {
   "cell_type": "code",
   "execution_count": null,
   "metadata": {},
   "outputs": [
    {
     "data": {
      "text/html": [
       "<div>\n",
       "<style>\n",
       "    .dataframe thead tr:only-child th {\n",
       "        text-align: right;\n",
       "    }\n",
       "\n",
       "    .dataframe thead th {\n",
       "        text-align: left;\n",
       "    }\n",
       "\n",
       "    .dataframe tbody tr th {\n",
       "        vertical-align: top;\n",
       "    }\n",
       "</style>\n",
       "<table border=\"1\" class=\"dataframe\">\n",
       "  <thead>\n",
       "    <tr style=\"text-align: right;\">\n",
       "      <th></th>\n",
       "      <th></th>\n",
       "      <th>dim_or_attr</th>\n",
       "      <th>name</th>\n",
       "    </tr>\n",
       "  </thead>\n",
       "  <tbody>\n",
       "    <tr>\n",
       "      <th rowspan=\"8\" valign=\"top\">FREQ</th>\n",
       "      <th>FREQ</th>\n",
       "      <td>D</td>\n",
       "      <td>FREQ</td>\n",
       "    </tr>\n",
       "    <tr>\n",
       "      <th>A</th>\n",
       "      <td>D</td>\n",
       "      <td>Annual</td>\n",
       "    </tr>\n",
       "    <tr>\n",
       "      <th>D</th>\n",
       "      <td>D</td>\n",
       "      <td>Daily</td>\n",
       "    </tr>\n",
       "    <tr>\n",
       "      <th>H</th>\n",
       "      <td>D</td>\n",
       "      <td>Half-year</td>\n",
       "    </tr>\n",
       "    <tr>\n",
       "      <th>M</th>\n",
       "      <td>D</td>\n",
       "      <td>Monthly</td>\n",
       "    </tr>\n",
       "    <tr>\n",
       "      <th>Q</th>\n",
       "      <td>D</td>\n",
       "      <td>Quarterly</td>\n",
       "    </tr>\n",
       "    <tr>\n",
       "      <th>S</th>\n",
       "      <td>D</td>\n",
       "      <td>Semi-annual</td>\n",
       "    </tr>\n",
       "    <tr>\n",
       "      <th>W</th>\n",
       "      <td>D</td>\n",
       "      <td>Weekly</td>\n",
       "    </tr>\n",
       "    <tr>\n",
       "      <th rowspan=\"2\" valign=\"top\">UNIT</th>\n",
       "      <th>UNIT</th>\n",
       "      <td>D</td>\n",
       "      <td>UNIT</td>\n",
       "    </tr>\n",
       "    <tr>\n",
       "      <th>MIO_EUR</th>\n",
       "      <td>D</td>\n",
       "      <td>Million euro</td>\n",
       "    </tr>\n",
       "    <tr>\n",
       "      <th rowspan=\"8\" valign=\"top\">NACE_R2</th>\n",
       "      <th>NACE_R2</th>\n",
       "      <td>D</td>\n",
       "      <td>NACE_R2</td>\n",
       "    </tr>\n",
       "    <tr>\n",
       "      <th>C</th>\n",
       "      <td>D</td>\n",
       "      <td>Manufacturing</td>\n",
       "    </tr>\n",
       "    <tr>\n",
       "      <th>C_HTC</th>\n",
       "      <td>D</td>\n",
       "      <td>High-technology manufacturing</td>\n",
       "    </tr>\n",
       "    <tr>\n",
       "      <th>C_HTC_M</th>\n",
       "      <td>D</td>\n",
       "      <td>Medium high-technology manufacturing</td>\n",
       "    </tr>\n",
       "    <tr>\n",
       "      <th>C_LTC</th>\n",
       "      <td>D</td>\n",
       "      <td>Low-technology manufacturing</td>\n",
       "    </tr>\n",
       "    <tr>\n",
       "      <th>C_LTC_M</th>\n",
       "      <td>D</td>\n",
       "      <td>Medium low-technology manufacturing</td>\n",
       "    </tr>\n",
       "    <tr>\n",
       "      <th>G-N</th>\n",
       "      <td>D</td>\n",
       "      <td>Services of the business economy</td>\n",
       "    </tr>\n",
       "    <tr>\n",
       "      <th>TOTAL</th>\n",
       "      <td>D</td>\n",
       "      <td>Total - all NACE activities</td>\n",
       "    </tr>\n",
       "    <tr>\n",
       "      <th rowspan=\"26\" valign=\"top\">GEO</th>\n",
       "      <th>GEO</th>\n",
       "      <td>D</td>\n",
       "      <td>GEO</td>\n",
       "    </tr>\n",
       "    <tr>\n",
       "      <th>AT</th>\n",
       "      <td>D</td>\n",
       "      <td>Austria</td>\n",
       "    </tr>\n",
       "    <tr>\n",
       "      <th>BE</th>\n",
       "      <td>D</td>\n",
       "      <td>Belgium</td>\n",
       "    </tr>\n",
       "    <tr>\n",
       "      <th>BG</th>\n",
       "      <td>D</td>\n",
       "      <td>Bulgaria</td>\n",
       "    </tr>\n",
       "    <tr>\n",
       "      <th>CH</th>\n",
       "      <td>D</td>\n",
       "      <td>Switzerland</td>\n",
       "    </tr>\n",
       "    <tr>\n",
       "      <th>CN_X_HK</th>\n",
       "      <td>D</td>\n",
       "      <td>China except Hong Kong</td>\n",
       "    </tr>\n",
       "    <tr>\n",
       "      <th>CY</th>\n",
       "      <td>D</td>\n",
       "      <td>Cyprus</td>\n",
       "    </tr>\n",
       "    <tr>\n",
       "      <th>CZ</th>\n",
       "      <td>D</td>\n",
       "      <td>Czech Republic</td>\n",
       "    </tr>\n",
       "    <tr>\n",
       "      <th>DE</th>\n",
       "      <td>D</td>\n",
       "      <td>Germany (until 1990 former territory of the FRG)</td>\n",
       "    </tr>\n",
       "    <tr>\n",
       "      <th>DK</th>\n",
       "      <td>D</td>\n",
       "      <td>Denmark</td>\n",
       "    </tr>\n",
       "    <tr>\n",
       "      <th>EE</th>\n",
       "      <td>D</td>\n",
       "      <td>Estonia</td>\n",
       "    </tr>\n",
       "    <tr>\n",
       "      <th>EL</th>\n",
       "      <td>D</td>\n",
       "      <td>Greece</td>\n",
       "    </tr>\n",
       "    <tr>\n",
       "      <th>...</th>\n",
       "      <td>...</td>\n",
       "      <td>...</td>\n",
       "    </tr>\n",
       "    <tr>\n",
       "      <th>NL</th>\n",
       "      <td>D</td>\n",
       "      <td>Netherlands</td>\n",
       "    </tr>\n",
       "    <tr>\n",
       "      <th>NO</th>\n",
       "      <td>D</td>\n",
       "      <td>Norway</td>\n",
       "    </tr>\n",
       "    <tr>\n",
       "      <th>PL</th>\n",
       "      <td>D</td>\n",
       "      <td>Poland</td>\n",
       "    </tr>\n",
       "    <tr>\n",
       "      <th>PT</th>\n",
       "      <td>D</td>\n",
       "      <td>Portugal</td>\n",
       "    </tr>\n",
       "    <tr>\n",
       "      <th>RO</th>\n",
       "      <td>D</td>\n",
       "      <td>Romania</td>\n",
       "    </tr>\n",
       "    <tr>\n",
       "      <th>RS</th>\n",
       "      <td>D</td>\n",
       "      <td>Serbia</td>\n",
       "    </tr>\n",
       "    <tr>\n",
       "      <th>RU</th>\n",
       "      <td>D</td>\n",
       "      <td>Russia</td>\n",
       "    </tr>\n",
       "    <tr>\n",
       "      <th>SE</th>\n",
       "      <td>D</td>\n",
       "      <td>Sweden</td>\n",
       "    </tr>\n",
       "    <tr>\n",
       "      <th>SI</th>\n",
       "      <td>D</td>\n",
       "      <td>Slovenia</td>\n",
       "    </tr>\n",
       "    <tr>\n",
       "      <th>SK</th>\n",
       "      <td>D</td>\n",
       "      <td>Slovakia</td>\n",
       "    </tr>\n",
       "    <tr>\n",
       "      <th>TR</th>\n",
       "      <td>D</td>\n",
       "      <td>Turkey</td>\n",
       "    </tr>\n",
       "    <tr>\n",
       "      <th>UK</th>\n",
       "      <td>D</td>\n",
       "      <td>United Kingdom</td>\n",
       "    </tr>\n",
       "    <tr>\n",
       "      <th>US</th>\n",
       "      <td>D</td>\n",
       "      <td>United States</td>\n",
       "    </tr>\n",
       "    <tr>\n",
       "      <th rowspan=\"13\" valign=\"top\">OBS_FLAG</th>\n",
       "      <th>OBS_FLAG</th>\n",
       "      <td>A</td>\n",
       "      <td>Observation flag.</td>\n",
       "    </tr>\n",
       "    <tr>\n",
       "      <th>b</th>\n",
       "      <td>A</td>\n",
       "      <td>break in time series</td>\n",
       "    </tr>\n",
       "    <tr>\n",
       "      <th>c</th>\n",
       "      <td>A</td>\n",
       "      <td>confidential</td>\n",
       "    </tr>\n",
       "    <tr>\n",
       "      <th>d</th>\n",
       "      <td>A</td>\n",
       "      <td>definition differs, see metadata</td>\n",
       "    </tr>\n",
       "    <tr>\n",
       "      <th>e</th>\n",
       "      <td>A</td>\n",
       "      <td>estimated</td>\n",
       "    </tr>\n",
       "    <tr>\n",
       "      <th>f</th>\n",
       "      <td>A</td>\n",
       "      <td>forecast</td>\n",
       "    </tr>\n",
       "    <tr>\n",
       "      <th>i</th>\n",
       "      <td>A</td>\n",
       "      <td>see metadata (phased out)</td>\n",
       "    </tr>\n",
       "    <tr>\n",
       "      <th>n</th>\n",
       "      <td>A</td>\n",
       "      <td>not significant</td>\n",
       "    </tr>\n",
       "    <tr>\n",
       "      <th>p</th>\n",
       "      <td>A</td>\n",
       "      <td>provisional</td>\n",
       "    </tr>\n",
       "    <tr>\n",
       "      <th>r</th>\n",
       "      <td>A</td>\n",
       "      <td>revised</td>\n",
       "    </tr>\n",
       "    <tr>\n",
       "      <th>s</th>\n",
       "      <td>A</td>\n",
       "      <td>Eurostat estimate (phased out)</td>\n",
       "    </tr>\n",
       "    <tr>\n",
       "      <th>u</th>\n",
       "      <td>A</td>\n",
       "      <td>low reliability</td>\n",
       "    </tr>\n",
       "    <tr>\n",
       "      <th>z</th>\n",
       "      <td>A</td>\n",
       "      <td>not applicable</td>\n",
       "    </tr>\n",
       "    <tr>\n",
       "      <th rowspan=\"4\" valign=\"top\">OBS_STATUS</th>\n",
       "      <th>OBS_STATUS</th>\n",
       "      <td>A</td>\n",
       "      <td>Observation status.</td>\n",
       "    </tr>\n",
       "    <tr>\n",
       "      <th>-</th>\n",
       "      <td>A</td>\n",
       "      <td>not applicable or real zero or zero by default</td>\n",
       "    </tr>\n",
       "    <tr>\n",
       "      <th>0</th>\n",
       "      <td>A</td>\n",
       "      <td>less than half of the unit used</td>\n",
       "    </tr>\n",
       "    <tr>\n",
       "      <th>na</th>\n",
       "      <td>A</td>\n",
       "      <td>not available</td>\n",
       "    </tr>\n",
       "  </tbody>\n",
       "</table>\n",
       "<p>76 rows × 2 columns</p>\n",
       "</div>"
      ],
      "text/plain": [
       "                      dim_or_attr  \\\n",
       "FREQ       FREQ                 D   \n",
       "           A                    D   \n",
       "           D                    D   \n",
       "           H                    D   \n",
       "           M                    D   \n",
       "           Q                    D   \n",
       "           S                    D   \n",
       "           W                    D   \n",
       "UNIT       UNIT                 D   \n",
       "           MIO_EUR              D   \n",
       "NACE_R2    NACE_R2              D   \n",
       "           C                    D   \n",
       "           C_HTC                D   \n",
       "           C_HTC_M              D   \n",
       "           C_LTC                D   \n",
       "           C_LTC_M              D   \n",
       "           G-N                  D   \n",
       "           TOTAL                D   \n",
       "GEO        GEO                  D   \n",
       "           AT                   D   \n",
       "           BE                   D   \n",
       "           BG                   D   \n",
       "           CH                   D   \n",
       "           CN_X_HK              D   \n",
       "           CY                   D   \n",
       "           CZ                   D   \n",
       "           DE                   D   \n",
       "           DK                   D   \n",
       "           EE                   D   \n",
       "           EL                   D   \n",
       "...                           ...   \n",
       "           NL                   D   \n",
       "           NO                   D   \n",
       "           PL                   D   \n",
       "           PT                   D   \n",
       "           RO                   D   \n",
       "           RS                   D   \n",
       "           RU                   D   \n",
       "           SE                   D   \n",
       "           SI                   D   \n",
       "           SK                   D   \n",
       "           TR                   D   \n",
       "           UK                   D   \n",
       "           US                   D   \n",
       "OBS_FLAG   OBS_FLAG             A   \n",
       "           b                    A   \n",
       "           c                    A   \n",
       "           d                    A   \n",
       "           e                    A   \n",
       "           f                    A   \n",
       "           i                    A   \n",
       "           n                    A   \n",
       "           p                    A   \n",
       "           r                    A   \n",
       "           s                    A   \n",
       "           u                    A   \n",
       "           z                    A   \n",
       "OBS_STATUS OBS_STATUS           A   \n",
       "           -                    A   \n",
       "           0                    A   \n",
       "           na                   A   \n",
       "\n",
       "                                                                   name  \n",
       "FREQ       FREQ                                                    FREQ  \n",
       "           A                                                     Annual  \n",
       "           D                                                      Daily  \n",
       "           H                                                  Half-year  \n",
       "           M                                                    Monthly  \n",
       "           Q                                                  Quarterly  \n",
       "           S                                                Semi-annual  \n",
       "           W                                                     Weekly  \n",
       "UNIT       UNIT                                                    UNIT  \n",
       "           MIO_EUR                                         Million euro  \n",
       "NACE_R2    NACE_R2                                              NACE_R2  \n",
       "           C                                              Manufacturing  \n",
       "           C_HTC                          High-technology manufacturing  \n",
       "           C_HTC_M                 Medium high-technology manufacturing  \n",
       "           C_LTC                           Low-technology manufacturing  \n",
       "           C_LTC_M                  Medium low-technology manufacturing  \n",
       "           G-N                         Services of the business economy  \n",
       "           TOTAL                            Total - all NACE activities  \n",
       "GEO        GEO                                                      GEO  \n",
       "           AT                                                   Austria  \n",
       "           BE                                                   Belgium  \n",
       "           BG                                                  Bulgaria  \n",
       "           CH                                               Switzerland  \n",
       "           CN_X_HK                               China except Hong Kong  \n",
       "           CY                                                    Cyprus  \n",
       "           CZ                                            Czech Republic  \n",
       "           DE          Germany (until 1990 former territory of the FRG)  \n",
       "           DK                                                   Denmark  \n",
       "           EE                                                   Estonia  \n",
       "           EL                                                    Greece  \n",
       "...                                                                 ...  \n",
       "           NL                                               Netherlands  \n",
       "           NO                                                    Norway  \n",
       "           PL                                                    Poland  \n",
       "           PT                                                  Portugal  \n",
       "           RO                                                   Romania  \n",
       "           RS                                                    Serbia  \n",
       "           RU                                                    Russia  \n",
       "           SE                                                    Sweden  \n",
       "           SI                                                  Slovenia  \n",
       "           SK                                                  Slovakia  \n",
       "           TR                                                    Turkey  \n",
       "           UK                                            United Kingdom  \n",
       "           US                                             United States  \n",
       "OBS_FLAG   OBS_FLAG                                   Observation flag.  \n",
       "           b                                       break in time series  \n",
       "           c                                               confidential  \n",
       "           d                           definition differs, see metadata  \n",
       "           e                                                  estimated  \n",
       "           f                                                   forecast  \n",
       "           i                                  see metadata (phased out)  \n",
       "           n                                            not significant  \n",
       "           p                                                provisional  \n",
       "           r                                                    revised  \n",
       "           s                             Eurostat estimate (phased out)  \n",
       "           u                                            low reliability  \n",
       "           z                                             not applicable  \n",
       "OBS_STATUS OBS_STATUS                               Observation status.  \n",
       "           -             not applicable or real zero or zero by default  \n",
       "           0                            less than half of the unit used  \n",
       "           na                                             not available  \n",
       "\n",
       "[76 rows x 2 columns]"
      ]
     },
     "execution_count": 576,
     "metadata": {},
     "output_type": "execute_result"
    }
   ],
   "source": [
    "dsd_resp1.write().codelist"
   ]
  },
  {
   "cell_type": "markdown",
   "metadata": {},
   "source": [
    "### Requesting the data"
   ]
  },
  {
   "cell_type": "code",
   "execution_count": null,
   "metadata": {},
   "outputs": [],
   "source": [
    "dresp1 = estat.get(resource_type = 'data',\n",
    "                   resource_id = id1,\n",
    "                   params = {'references': None,\n",
    "                             'startPeriod': '2014',\n",
    "                             'endPeriod': '2014'\n",
    "                            })"
   ]
  },
  {
   "cell_type": "code",
   "execution_count": null,
   "metadata": {
    "collapsed": true
   },
   "outputs": [],
   "source": [
    "dat1 = dresp1.data"
   ]
  },
  {
   "cell_type": "code",
   "execution_count": null,
   "metadata": {},
   "outputs": [],
   "source": [
    "dat1.dim_at_obs"
   ]
  },
  {
   "cell_type": "code",
   "execution_count": null,
   "metadata": {},
   "outputs": [],
   "source": [
    "ser1 = list(dat1.series)\n",
    "len(ser1)"
   ]
  },
  {
   "cell_type": "code",
   "execution_count": null,
   "metadata": {
    "scrolled": true
   },
   "outputs": [],
   "source": [
    "ser1[5].key"
   ]
  },
  {
   "cell_type": "code",
   "execution_count": null,
   "metadata": {},
   "outputs": [],
   "source": [
    "set(s.key.GEO for s in dat1.series)"
   ]
  },
  {
   "cell_type": "markdown",
   "metadata": {},
   "source": [
    "### Writing the data into DataFrame"
   ]
  },
  {
   "cell_type": "code",
   "execution_count": null,
   "metadata": {
    "scrolled": false
   },
   "outputs": [],
   "source": [
    "iter1 = (s for s in dat1.series if (s.key.GEO in ['CN_X_HK', 'EU28', 'US']) == False)\n",
    "tab1 = dresp1.write(iter1)\n",
    "tab1 = tab1.stack('GEO')\n",
    "tab1.columns = tab1.columns.droplevel(['FREQ','UNIT']) # Dropping 'FREQ' and 'UNIT' levels\n",
    "tab1 = tab1.loc['2014']\n",
    "tab1.index = tab1.index.droplevel(0) # Dropping the 'TIME_PERIOD' axis\n",
    "tab1.dropna(axis = 0, how = 'any', inplace = True)\n",
    "tab1"
   ]
  },
  {
   "cell_type": "code",
   "execution_count": null,
   "metadata": {
    "scrolled": true
   },
   "outputs": [],
   "source": [
    "p = figure(plot_width = 400, plot_height = 400)\n",
    "p.circle(tab1.loc[:,'C'], tab1.loc[:,'G-N'], size = 10, color = \"purple\", alpha = 0.6)\n",
    "show(p)"
   ]
  },
  {
   "cell_type": "markdown",
   "metadata": {},
   "source": [
    "# Venture capital data"
   ]
  },
  {
   "cell_type": "markdown",
   "metadata": {},
   "source": [
    "### Getting the table's dataflow definition and datastructure"
   ]
  },
  {
   "cell_type": "code",
   "execution_count": null,
   "metadata": {
    "scrolled": false
   },
   "outputs": [],
   "source": [
    "dsd_resp2, dsd_id2, dsd2 = dsd_resp(id2)"
   ]
  },
  {
   "cell_type": "markdown",
   "metadata": {},
   "source": [
    "### Downloading the table's datastructure definition"
   ]
  },
  {
   "cell_type": "code",
   "execution_count": null,
   "metadata": {
    "scrolled": true
   },
   "outputs": [],
   "source": [
    "dsd_att(dsd2)"
   ]
  },
  {
   "cell_type": "markdown",
   "metadata": {},
   "source": [
    "Codelist:"
   ]
  },
  {
   "cell_type": "code",
   "execution_count": null,
   "metadata": {
    "scrolled": true
   },
   "outputs": [],
   "source": [
    "dsd_resp2.write().codelist.loc[:,:] # [['EXPEND', 'UNIT'],:]"
   ]
  },
  {
   "cell_type": "markdown",
   "metadata": {},
   "source": [
    "### Requesting the data"
   ]
  },
  {
   "cell_type": "code",
   "execution_count": null,
   "metadata": {
    "collapsed": true
   },
   "outputs": [],
   "source": [
    "dresp2 = estat.get(resource_type = 'data',\n",
    "                   resource_id = id2,\n",
    "                   params = {'references': None,\n",
    "                             #'startPeriod': '2014',\n",
    "                             #'endPeriod': '2014'\n",
    "                            })"
   ]
  },
  {
   "cell_type": "code",
   "execution_count": null,
   "metadata": {
    "collapsed": true
   },
   "outputs": [],
   "source": [
    "dat2 = dresp2.data"
   ]
  },
  {
   "cell_type": "code",
   "execution_count": null,
   "metadata": {},
   "outputs": [],
   "source": [
    "dat2.dim_at_obs"
   ]
  },
  {
   "cell_type": "code",
   "execution_count": null,
   "metadata": {},
   "outputs": [],
   "source": [
    "ser2 = list(dat2.series)\n",
    "len(ser2)"
   ]
  },
  {
   "cell_type": "code",
   "execution_count": null,
   "metadata": {
    "scrolled": true
   },
   "outputs": [],
   "source": [
    "ser2[5].key"
   ]
  },
  {
   "cell_type": "code",
   "execution_count": null,
   "metadata": {
    "scrolled": false
   },
   "outputs": [],
   "source": [
    "set(s.key.UNIT for s in dat2.series)"
   ]
  },
  {
   "cell_type": "markdown",
   "metadata": {},
   "source": [
    "### Writing the data into DataFrame"
   ]
  },
  {
   "cell_type": "code",
   "execution_count": null,
   "metadata": {
    "scrolled": true
   },
   "outputs": [],
   "source": [
    "iter2 = (s for s in dat2.series if (s.key.GEO in ['EU15']) == False)\n",
    "tab2 = dresp2.write(iter2)\n",
    "tab2 = tab2.stack('GEO')\n",
    "tab2.columns = tab2.columns.droplevel(['FREQ']) # Dropping 'FREQ' and 'UNIT' levels\n",
    "tab2.swaplevel('UNIT', 'EXPEND', axis = 1)\n",
    "tab2 = tab2.loc['2015', ['PC_GDP', 'MIO_EUR']]\n",
    "# tab2.dropna(axis = 0, how = 'any', inplace = True)\n",
    "# tab2.index = tab2.index.droplevel(0) # Dropping the 'TIME_PERIOD' axis\n",
    "tab2"
   ]
  },
  {
   "cell_type": "code",
   "execution_count": null,
   "metadata": {
    "scrolled": true
   },
   "outputs": [],
   "source": [
    "p = figure(plot_width = 400, plot_height = 400)\n",
    "p.square(tab2.loc[:,('PC_GDP','INV')], tab2.loc[:,('PC_GDP','INV_VEN')], size = tab2.loc[:,('MIO_EUR','INV')] / 500, color = \"blue\", alpha = 0.6)\n",
    "show(p)"
   ]
  },
  {
   "cell_type": "code",
   "execution_count": null,
   "metadata": {
    "collapsed": true
   },
   "outputs": [],
   "source": []
  }
 ],
 "metadata": {
  "kernelspec": {
   "display_name": "Python 3",
   "language": "python",
   "name": "python3"
  },
  "language_info": {
   "codemirror_mode": {
    "name": "ipython",
    "version": 3
   },
   "file_extension": ".py",
   "mimetype": "text/x-python",
   "name": "python",
   "nbconvert_exporter": "python",
   "pygments_lexer": "ipython3",
   "version": "3.6.1"
  }
 },
 "nbformat": 4,
 "nbformat_minor": 2
}
